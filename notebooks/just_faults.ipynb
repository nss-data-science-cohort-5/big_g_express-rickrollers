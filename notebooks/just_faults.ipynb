{
 "cells": [
  {
   "cell_type": "code",
   "execution_count": 1,
   "id": "94b256cc",
   "metadata": {},
   "outputs": [],
   "source": [
    "import pandas as pd\n",
    "import matplotlib.pyplot as plt\n",
    "import numpy as np\n",
    "import seaborn as sns\n",
    "import datetime as dt"
   ]
  },
  {
   "cell_type": "code",
   "execution_count": 2,
   "id": "27a9bb7f",
   "metadata": {},
   "outputs": [
    {
     "name": "stderr",
     "output_type": "stream",
     "text": [
      "/opt/anaconda3/lib/python3.8/site-packages/numpy/lib/arraysetops.py:583: FutureWarning: elementwise comparison failed; returning scalar instead, but in the future will perform elementwise comparison\n",
      "  mask |= (ar1 == a)\n"
     ]
    }
   ],
   "source": [
    "#Read in J1939Faults. low_memory = false because of warning about mixed type columns.\n",
    "faults = pd.read_csv('../data/J1939Faults.csv',\n",
    "                     index_col = 'RecordID',\n",
    "                     parse_dates = ['EventTimeStamp', 'LocationTimeStamp'],\n",
    "                     low_memory = False)\n",
    "#remove faults that occur at service locations. Had to remove the last digit because the rows dont have it.\n",
    "service_location1 = faults[(faults[\"Latitude\"] == 36.066666) & (faults[\"Longitude\"] == -86.434722)]\n",
    "\n",
    "service_location2 = faults[(faults[\"Latitude\"] == 35.588333) & (faults[\"Longitude\"] == -86.443888)]\n",
    "\n",
    "service_location3 = faults[(faults[\"Latitude\"] == 36.1950) & (faults[\"Longitude\"] ==  -83.174722)]\n",
    "\n",
    "#concat service_locations for removal\n",
    "service_locations = pd.concat([service_location1, service_location2, service_location3])\n",
    "#drop service locations\n",
    "faults_cleaned = faults.drop(service_locations.index)\n",
    "#remove EquipmentIDs that are longer than 5 Characters per the README\n",
    "faults_cleaned = faults_cleaned[faults_cleaned['EquipmentID'].map(len) <= 5]\n",
    "#removed columns that only contained null values or would not be valuable because they're unique to the truck.\n",
    "faults_cleaned = faults_cleaned.drop(['actionDescription', 'faultValue', 'ecuSerialNumber',\n",
    "                                      'ecuSource', 'MCTNumber'], axis = 1).reset_index()"
   ]
  },
  {
   "cell_type": "code",
   "execution_count": 58,
   "id": "d94662cd",
   "metadata": {},
   "outputs": [
    {
     "data": {
      "text/plain": [
       "2016    332175\n",
       "2015    325536\n",
       "2017    254680\n",
       "2018    143289\n",
       "2019    111321\n",
       "2020     17179\n",
       "2011       227\n",
       "2000       219\n",
       "2010        47\n",
       "2009        24\n",
       "2026         3\n",
       "2002         1\n",
       "Freq: A-DEC, Name: EventTimeStamp, dtype: int64"
      ]
     },
     "execution_count": 58,
     "metadata": {},
     "output_type": "execute_result"
    }
   ],
   "source": [
    "faults_cleaned['EventTimeStamp'].dt.to_period('Y').value_counts()"
   ]
  },
  {
   "cell_type": "markdown",
   "id": "b929f635",
   "metadata": {},
   "source": [
    "### limit to years 2015-2020 "
   ]
  },
  {
   "cell_type": "code",
   "execution_count": 61,
   "id": "11120c77",
   "metadata": {},
   "outputs": [
    {
     "data": {
      "text/plain": [
       "0          2015\n",
       "1          2015\n",
       "2          2015\n",
       "3          2015\n",
       "4          2015\n",
       "           ... \n",
       "1184696    2020\n",
       "1184697    2020\n",
       "1184698    2020\n",
       "1184699    2020\n",
       "1184700    2020\n",
       "Name: EventTimeStamp, Length: 1184701, dtype: period[A-DEC]"
      ]
     },
     "execution_count": 61,
     "metadata": {},
     "output_type": "execute_result"
    }
   ],
   "source": [
    "faults_cleaned['EventTimeStamp'].dt.to_period('Y') "
   ]
  },
  {
   "cell_type": "code",
   "execution_count": 4,
   "id": "3f8167f9",
   "metadata": {
    "scrolled": true
   },
   "outputs": [
    {
     "data": {
      "text/html": [
       "<div>\n",
       "<style scoped>\n",
       "    .dataframe tbody tr th:only-of-type {\n",
       "        vertical-align: middle;\n",
       "    }\n",
       "\n",
       "    .dataframe tbody tr th {\n",
       "        vertical-align: top;\n",
       "    }\n",
       "\n",
       "    .dataframe thead th {\n",
       "        text-align: right;\n",
       "    }\n",
       "</style>\n",
       "<table border=\"1\" class=\"dataframe\">\n",
       "  <thead>\n",
       "    <tr style=\"text-align: right;\">\n",
       "      <th></th>\n",
       "      <th>RecordID</th>\n",
       "      <th>ESS_Id</th>\n",
       "      <th>EventTimeStamp</th>\n",
       "      <th>eventDescription</th>\n",
       "      <th>ecuSoftwareVersion</th>\n",
       "      <th>ecuModel</th>\n",
       "      <th>ecuMake</th>\n",
       "      <th>spn</th>\n",
       "      <th>fmi</th>\n",
       "      <th>active</th>\n",
       "      <th>activeTransitionCount</th>\n",
       "      <th>EquipmentID</th>\n",
       "      <th>Latitude</th>\n",
       "      <th>Longitude</th>\n",
       "      <th>LocationTimeStamp</th>\n",
       "    </tr>\n",
       "  </thead>\n",
       "  <tbody>\n",
       "    <tr>\n",
       "      <th>0</th>\n",
       "      <td>1</td>\n",
       "      <td>990349</td>\n",
       "      <td>2015-02-21 10:47:13</td>\n",
       "      <td>Low (Severity Low) Engine Coolant Level</td>\n",
       "      <td>unknown</td>\n",
       "      <td>unknown</td>\n",
       "      <td>unknown</td>\n",
       "      <td>111</td>\n",
       "      <td>17</td>\n",
       "      <td>True</td>\n",
       "      <td>2</td>\n",
       "      <td>1439</td>\n",
       "      <td>38.857638</td>\n",
       "      <td>-84.626851</td>\n",
       "      <td>2015-02-21 11:34:25</td>\n",
       "    </tr>\n",
       "    <tr>\n",
       "      <th>1</th>\n",
       "      <td>2</td>\n",
       "      <td>990360</td>\n",
       "      <td>2015-02-21 11:34:34</td>\n",
       "      <td>NaN</td>\n",
       "      <td>unknown</td>\n",
       "      <td>unknown</td>\n",
       "      <td>unknown</td>\n",
       "      <td>629</td>\n",
       "      <td>12</td>\n",
       "      <td>True</td>\n",
       "      <td>127</td>\n",
       "      <td>1439</td>\n",
       "      <td>38.857638</td>\n",
       "      <td>-84.626851</td>\n",
       "      <td>2015-02-21 11:35:10</td>\n",
       "    </tr>\n",
       "    <tr>\n",
       "      <th>2</th>\n",
       "      <td>3</td>\n",
       "      <td>990364</td>\n",
       "      <td>2015-02-21 11:35:31</td>\n",
       "      <td>Incorrect Data Steering Wheel Angle</td>\n",
       "      <td>unknown</td>\n",
       "      <td>unknown</td>\n",
       "      <td>unknown</td>\n",
       "      <td>1807</td>\n",
       "      <td>2</td>\n",
       "      <td>False</td>\n",
       "      <td>127</td>\n",
       "      <td>1369</td>\n",
       "      <td>41.421250</td>\n",
       "      <td>-87.767361</td>\n",
       "      <td>2015-02-21 11:35:26</td>\n",
       "    </tr>\n",
       "    <tr>\n",
       "      <th>3</th>\n",
       "      <td>4</td>\n",
       "      <td>990370</td>\n",
       "      <td>2015-02-21 11:35:33</td>\n",
       "      <td>Incorrect Data Steering Wheel Angle</td>\n",
       "      <td>unknown</td>\n",
       "      <td>unknown</td>\n",
       "      <td>unknown</td>\n",
       "      <td>1807</td>\n",
       "      <td>2</td>\n",
       "      <td>True</td>\n",
       "      <td>127</td>\n",
       "      <td>1369</td>\n",
       "      <td>41.421018</td>\n",
       "      <td>-87.767361</td>\n",
       "      <td>2015-02-21 11:36:08</td>\n",
       "    </tr>\n",
       "    <tr>\n",
       "      <th>4</th>\n",
       "      <td>5</td>\n",
       "      <td>990416</td>\n",
       "      <td>2015-02-21 11:39:41</td>\n",
       "      <td>NaN</td>\n",
       "      <td>22281684P01*22357957P01*22362082P01*</td>\n",
       "      <td>0USA13_13_0415_2238A</td>\n",
       "      <td>VOLVO</td>\n",
       "      <td>4364</td>\n",
       "      <td>17</td>\n",
       "      <td>False</td>\n",
       "      <td>2</td>\n",
       "      <td>1674</td>\n",
       "      <td>38.416481</td>\n",
       "      <td>-89.442638</td>\n",
       "      <td>2015-02-21 11:39:37</td>\n",
       "    </tr>\n",
       "    <tr>\n",
       "      <th>...</th>\n",
       "      <td>...</td>\n",
       "      <td>...</td>\n",
       "      <td>...</td>\n",
       "      <td>...</td>\n",
       "      <td>...</td>\n",
       "      <td>...</td>\n",
       "      <td>...</td>\n",
       "      <td>...</td>\n",
       "      <td>...</td>\n",
       "      <td>...</td>\n",
       "      <td>...</td>\n",
       "      <td>...</td>\n",
       "      <td>...</td>\n",
       "      <td>...</td>\n",
       "      <td>...</td>\n",
       "    </tr>\n",
       "    <tr>\n",
       "      <th>1184696</th>\n",
       "      <td>1248454</td>\n",
       "      <td>123904424</td>\n",
       "      <td>2020-03-06 14:00:26</td>\n",
       "      <td>Low (Severity Low) Catalyst Tank Level</td>\n",
       "      <td>04384413*22383729*082218154102*60701732*G1*BGT*</td>\n",
       "      <td>6X1u17D1500000000</td>\n",
       "      <td>CMMNS</td>\n",
       "      <td>1761</td>\n",
       "      <td>17</td>\n",
       "      <td>False</td>\n",
       "      <td>3</td>\n",
       "      <td>2282</td>\n",
       "      <td>37.094768</td>\n",
       "      <td>-85.897407</td>\n",
       "      <td>2020-03-06 14:00:21</td>\n",
       "    </tr>\n",
       "    <tr>\n",
       "      <th>1184697</th>\n",
       "      <td>1248455</td>\n",
       "      <td>123905139</td>\n",
       "      <td>2020-03-06 14:04:23</td>\n",
       "      <td>Condition Exists Engine Protection Torque Derate</td>\n",
       "      <td>04358814*06099720*030816202706*09400153*G1*BDR*</td>\n",
       "      <td>6X1u13D1500000000</td>\n",
       "      <td>CMMNS</td>\n",
       "      <td>1569</td>\n",
       "      <td>31</td>\n",
       "      <td>True</td>\n",
       "      <td>5</td>\n",
       "      <td>1994</td>\n",
       "      <td>34.390740</td>\n",
       "      <td>-79.461805</td>\n",
       "      <td>2020-03-06 14:04:59</td>\n",
       "    </tr>\n",
       "    <tr>\n",
       "      <th>1184698</th>\n",
       "      <td>1248456</td>\n",
       "      <td>123905996</td>\n",
       "      <td>2020-03-06 14:13:38</td>\n",
       "      <td>Abnormal Rate of Change Aftertreatment 1 Intak...</td>\n",
       "      <td>05317106*05100987*050719120655*09401585*G1*BDR*</td>\n",
       "      <td>6X1u13D1500000000</td>\n",
       "      <td>CMMNS</td>\n",
       "      <td>3216</td>\n",
       "      <td>10</td>\n",
       "      <td>True</td>\n",
       "      <td>1</td>\n",
       "      <td>1850</td>\n",
       "      <td>34.430370</td>\n",
       "      <td>-84.920509</td>\n",
       "      <td>2020-03-06 14:14:14</td>\n",
       "    </tr>\n",
       "    <tr>\n",
       "      <th>1184699</th>\n",
       "      <td>1248457</td>\n",
       "      <td>123906113</td>\n",
       "      <td>2020-03-06 14:14:13</td>\n",
       "      <td>Low (Severity Medium) Engine Coolant Level</td>\n",
       "      <td>04384413*22544852*090619141107*60701756*G1*BGT*</td>\n",
       "      <td>NaN</td>\n",
       "      <td>NaN</td>\n",
       "      <td>111</td>\n",
       "      <td>18</td>\n",
       "      <td>True</td>\n",
       "      <td>8</td>\n",
       "      <td>2377</td>\n",
       "      <td>35.030925</td>\n",
       "      <td>-85.321527</td>\n",
       "      <td>2020-03-06 14:14:49</td>\n",
       "    </tr>\n",
       "    <tr>\n",
       "      <th>1184700</th>\n",
       "      <td>1248458</td>\n",
       "      <td>123906131</td>\n",
       "      <td>2020-03-06 14:15:34</td>\n",
       "      <td>Low (Severity Medium) Engine Coolant Level</td>\n",
       "      <td>04384413*22544852*090619141107*60701756*G1*BGT*</td>\n",
       "      <td>NaN</td>\n",
       "      <td>NaN</td>\n",
       "      <td>111</td>\n",
       "      <td>18</td>\n",
       "      <td>False</td>\n",
       "      <td>8</td>\n",
       "      <td>2377</td>\n",
       "      <td>35.027314</td>\n",
       "      <td>-85.323472</td>\n",
       "      <td>2020-03-06 14:15:30</td>\n",
       "    </tr>\n",
       "  </tbody>\n",
       "</table>\n",
       "<p>1184701 rows × 15 columns</p>\n",
       "</div>"
      ],
      "text/plain": [
       "         RecordID     ESS_Id      EventTimeStamp  \\\n",
       "0               1     990349 2015-02-21 10:47:13   \n",
       "1               2     990360 2015-02-21 11:34:34   \n",
       "2               3     990364 2015-02-21 11:35:31   \n",
       "3               4     990370 2015-02-21 11:35:33   \n",
       "4               5     990416 2015-02-21 11:39:41   \n",
       "...           ...        ...                 ...   \n",
       "1184696   1248454  123904424 2020-03-06 14:00:26   \n",
       "1184697   1248455  123905139 2020-03-06 14:04:23   \n",
       "1184698   1248456  123905996 2020-03-06 14:13:38   \n",
       "1184699   1248457  123906113 2020-03-06 14:14:13   \n",
       "1184700   1248458  123906131 2020-03-06 14:15:34   \n",
       "\n",
       "                                          eventDescription  \\\n",
       "0                  Low (Severity Low) Engine Coolant Level   \n",
       "1                                                      NaN   \n",
       "2                      Incorrect Data Steering Wheel Angle   \n",
       "3                      Incorrect Data Steering Wheel Angle   \n",
       "4                                                      NaN   \n",
       "...                                                    ...   \n",
       "1184696             Low (Severity Low) Catalyst Tank Level   \n",
       "1184697   Condition Exists Engine Protection Torque Derate   \n",
       "1184698  Abnormal Rate of Change Aftertreatment 1 Intak...   \n",
       "1184699         Low (Severity Medium) Engine Coolant Level   \n",
       "1184700         Low (Severity Medium) Engine Coolant Level   \n",
       "\n",
       "                                      ecuSoftwareVersion  \\\n",
       "0                                                unknown   \n",
       "1                                                unknown   \n",
       "2                                                unknown   \n",
       "3                                                unknown   \n",
       "4                   22281684P01*22357957P01*22362082P01*   \n",
       "...                                                  ...   \n",
       "1184696  04384413*22383729*082218154102*60701732*G1*BGT*   \n",
       "1184697  04358814*06099720*030816202706*09400153*G1*BDR*   \n",
       "1184698  05317106*05100987*050719120655*09401585*G1*BDR*   \n",
       "1184699  04384413*22544852*090619141107*60701756*G1*BGT*   \n",
       "1184700  04384413*22544852*090619141107*60701756*G1*BGT*   \n",
       "\n",
       "                     ecuModel  ecuMake   spn  fmi  active  \\\n",
       "0                     unknown  unknown   111   17    True   \n",
       "1                     unknown  unknown   629   12    True   \n",
       "2                     unknown  unknown  1807    2   False   \n",
       "3                     unknown  unknown  1807    2    True   \n",
       "4        0USA13_13_0415_2238A    VOLVO  4364   17   False   \n",
       "...                       ...      ...   ...  ...     ...   \n",
       "1184696     6X1u17D1500000000    CMMNS  1761   17   False   \n",
       "1184697     6X1u13D1500000000    CMMNS  1569   31    True   \n",
       "1184698     6X1u13D1500000000    CMMNS  3216   10    True   \n",
       "1184699                   NaN      NaN   111   18    True   \n",
       "1184700                   NaN      NaN   111   18   False   \n",
       "\n",
       "         activeTransitionCount EquipmentID   Latitude  Longitude  \\\n",
       "0                            2        1439  38.857638 -84.626851   \n",
       "1                          127        1439  38.857638 -84.626851   \n",
       "2                          127        1369  41.421250 -87.767361   \n",
       "3                          127        1369  41.421018 -87.767361   \n",
       "4                            2        1674  38.416481 -89.442638   \n",
       "...                        ...         ...        ...        ...   \n",
       "1184696                      3        2282  37.094768 -85.897407   \n",
       "1184697                      5        1994  34.390740 -79.461805   \n",
       "1184698                      1        1850  34.430370 -84.920509   \n",
       "1184699                      8        2377  35.030925 -85.321527   \n",
       "1184700                      8        2377  35.027314 -85.323472   \n",
       "\n",
       "          LocationTimeStamp  \n",
       "0       2015-02-21 11:34:25  \n",
       "1       2015-02-21 11:35:10  \n",
       "2       2015-02-21 11:35:26  \n",
       "3       2015-02-21 11:36:08  \n",
       "4       2015-02-21 11:39:37  \n",
       "...                     ...  \n",
       "1184696 2020-03-06 14:00:21  \n",
       "1184697 2020-03-06 14:04:59  \n",
       "1184698 2020-03-06 14:14:14  \n",
       "1184699 2020-03-06 14:14:49  \n",
       "1184700 2020-03-06 14:15:30  \n",
       "\n",
       "[1184701 rows x 15 columns]"
      ]
     },
     "execution_count": 4,
     "metadata": {},
     "output_type": "execute_result"
    }
   ],
   "source": [
    "faults_cleaned"
   ]
  },
  {
   "cell_type": "markdown",
   "id": "c2fa1ac0",
   "metadata": {},
   "source": [
    "# In the full dataset\n",
    "### How many trucks have a full derate/partial derate? \n",
    "\n",
    "#### 211 have full derates 'J1939Faults.csv'\n",
    "\n",
    "#### 498 have partial\n",
    "\n",
    "#### 182 have both. "
   ]
  },
  {
   "cell_type": "code",
   "execution_count": 67,
   "id": "510de648",
   "metadata": {},
   "outputs": [],
   "source": [
    "full = faults_cleaned[(faults_cleaned['spn'] == 5246)]\n",
    "full = full['EquipmentID'].unique()"
   ]
  },
  {
   "cell_type": "code",
   "execution_count": 78,
   "id": "29affde1",
   "metadata": {},
   "outputs": [
    {
     "data": {
      "text/plain": [
       "211"
      ]
     },
     "execution_count": 78,
     "metadata": {},
     "output_type": "execute_result"
    }
   ],
   "source": [
    "len(full)"
   ]
  },
  {
   "cell_type": "code",
   "execution_count": 68,
   "id": "27bcd912",
   "metadata": {},
   "outputs": [],
   "source": [
    "partial = faults_cleaned[(faults_cleaned['spn'] == 1569)]\n",
    "partial = partial['EquipmentID'].unique()"
   ]
  },
  {
   "cell_type": "code",
   "execution_count": 79,
   "id": "9da990d9",
   "metadata": {},
   "outputs": [
    {
     "data": {
      "text/plain": [
       "498"
      ]
     },
     "execution_count": 79,
     "metadata": {},
     "output_type": "execute_result"
    }
   ],
   "source": [
    "len(partial)"
   ]
  },
  {
   "cell_type": "code",
   "execution_count": 80,
   "id": "82445b04",
   "metadata": {},
   "outputs": [],
   "source": [
    "intersection = np.intersect1d(full, partial)"
   ]
  },
  {
   "cell_type": "code",
   "execution_count": 77,
   "id": "6b5184d2",
   "metadata": {},
   "outputs": [
    {
     "data": {
      "text/plain": [
       "182"
      ]
     },
     "execution_count": 77,
     "metadata": {},
     "output_type": "execute_result"
    }
   ],
   "source": [
    "len(intersection)"
   ]
  },
  {
   "cell_type": "markdown",
   "id": "c1ec1b6c",
   "metadata": {},
   "source": [
    "### Filter down to the trucks that have both"
   ]
  },
  {
   "cell_type": "code",
   "execution_count": 83,
   "id": "30f1440b",
   "metadata": {},
   "outputs": [],
   "source": [
    "both = faults_cleaned[faults_cleaned['EquipmentID'].isin(intersection)]"
   ]
  },
  {
   "cell_type": "code",
   "execution_count": 86,
   "id": "6a6b1008",
   "metadata": {
    "scrolled": true
   },
   "outputs": [
    {
     "name": "stdout",
     "output_type": "stream",
     "text": [
      "<class 'pandas.core.frame.DataFrame'>\n",
      "Int64Index: 357347 entries, 5 to 1184681\n",
      "Data columns (total 15 columns):\n",
      " #   Column                 Non-Null Count   Dtype         \n",
      "---  ------                 --------------   -----         \n",
      " 0   RecordID               357347 non-null  int64         \n",
      " 1   ESS_Id                 357347 non-null  int64         \n",
      " 2   EventTimeStamp         357347 non-null  datetime64[ns]\n",
      " 3   eventDescription       346863 non-null  object        \n",
      " 4   ecuSoftwareVersion     287808 non-null  object        \n",
      " 5   ecuModel               347610 non-null  object        \n",
      " 6   ecuMake                347610 non-null  object        \n",
      " 7   spn                    357347 non-null  int64         \n",
      " 8   fmi                    357347 non-null  int64         \n",
      " 9   active                 357347 non-null  bool          \n",
      " 10  activeTransitionCount  357347 non-null  int64         \n",
      " 11  EquipmentID            357347 non-null  object        \n",
      " 12  Latitude               357347 non-null  float64       \n",
      " 13  Longitude              357347 non-null  float64       \n",
      " 14  LocationTimeStamp      357347 non-null  datetime64[ns]\n",
      "dtypes: bool(1), datetime64[ns](2), float64(2), int64(5), object(5)\n",
      "memory usage: 41.2+ MB\n"
     ]
    }
   ],
   "source": [
    "both.info()"
   ]
  },
  {
   "cell_type": "code",
   "execution_count": 98,
   "id": "bf0172e3",
   "metadata": {},
   "outputs": [
    {
     "data": {
      "text/plain": [
       "2016    117106\n",
       "2015    105387\n",
       "2017     74788\n",
       "2018     37820\n",
       "2019     18624\n",
       "2020      3534\n",
       "2011        81\n",
       "2010         4\n",
       "2000         3\n",
       "Freq: A-DEC, Name: EventTimeStamp, dtype: int64"
      ]
     },
     "execution_count": 98,
     "metadata": {},
     "output_type": "execute_result"
    }
   ],
   "source": [
    "both['EventTimeStamp'].dt.to_period('Y').value_counts()"
   ]
  }
 ],
 "metadata": {
  "kernelspec": {
   "display_name": "Python 3",
   "language": "python",
   "name": "python3"
  },
  "language_info": {
   "codemirror_mode": {
    "name": "ipython",
    "version": 3
   },
   "file_extension": ".py",
   "mimetype": "text/x-python",
   "name": "python",
   "nbconvert_exporter": "python",
   "pygments_lexer": "ipython3",
   "version": "3.8.8"
  }
 },
 "nbformat": 4,
 "nbformat_minor": 5
}
