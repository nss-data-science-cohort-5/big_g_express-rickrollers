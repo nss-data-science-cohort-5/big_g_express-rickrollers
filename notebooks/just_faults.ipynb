{
 "cells": [
  {
   "cell_type": "code",
   "execution_count": 1,
   "id": "d19e112c",
   "metadata": {},
   "outputs": [],
   "source": [
    "import pandas as pd\n",
    "import matplotlib.pyplot as plt\n",
    "import numpy as np\n",
    "import seaborn as sns\n",
    "import datetime as dt"
   ]
  },
  {
   "cell_type": "code",
   "execution_count": 2,
   "id": "947186df",
   "metadata": {},
   "outputs": [
    {
     "name": "stderr",
     "output_type": "stream",
     "text": [
      "/opt/anaconda3/lib/python3.8/site-packages/numpy/lib/arraysetops.py:583: FutureWarning: elementwise comparison failed; returning scalar instead, but in the future will perform elementwise comparison\n",
      "  mask |= (ar1 == a)\n"
     ]
    }
   ],
   "source": [
    "#Read in J1939Faults. low_memory = false because of warning about mixed type columns.\n",
    "faults = pd.read_csv('../data/J1939Faults.csv',\n",
    "                     index_col = 'RecordID',\n",
    "                     parse_dates = ['EventTimeStamp', 'LocationTimeStamp'],\n",
    "                     low_memory = False)\n",
    "#remove faults that occur at service locations. Had to remove the last digit because the rows dont have it.\n",
    "service_location1 = faults[(faults[\"Latitude\"] == 36.066666) & (faults[\"Longitude\"] == -86.434722)]\n",
    "\n",
    "service_location2 = faults[(faults[\"Latitude\"] == 35.588333) & (faults[\"Longitude\"] == -86.443888)]\n",
    "\n",
    "service_location3 = faults[(faults[\"Latitude\"] == 36.1950) & (faults[\"Longitude\"] ==  -83.174722)]\n",
    "\n",
    "#concat service_locations for removal\n",
    "service_locations = pd.concat([service_location1, service_location2, service_location3])\n",
    "\n",
    "#drop service locations\n",
    "faults_cleaned = faults.drop(service_locations.index)\n",
    "\n",
    "#remove EquipmentIDs that are longer than 5 Characters per the README\n",
    "faults_cleaned = faults_cleaned[faults_cleaned['EquipmentID'].map(len) <= 5]\n",
    "\n",
    "#removed columns that only contained null values or would not be valuable because they're unique to the truck.\n",
    "faults_cleaned = faults_cleaned.drop(['actionDescription', 'faultValue', 'ecuSerialNumber',\n",
    "                                      'ecuSource', 'MCTNumber'], axis = 1).reset_index()"
   ]
  },
  {
   "cell_type": "code",
   "execution_count": 3,
   "id": "85c74c55",
   "metadata": {},
   "outputs": [],
   "source": [
    "#Limit to years 2015-2020, Had to add down to seconds because it kept changing the datatype after filtering\n",
    "faults_cleaned = faults_cleaned[(faults_cleaned['EventTimeStamp'] >= '2015-01-01 00:00:01') & (faults_cleaned['EventTimeStamp'] <= '2020-12-31 12:59:59')]\n",
    "\n"
   ]
  },
  {
   "cell_type": "code",
   "execution_count": 4,
   "id": "f89e71bd",
   "metadata": {
    "scrolled": false
   },
   "outputs": [],
   "source": [
    "#prepare derates for dummization\n",
    "faults_cleaned.loc[faults_cleaned['spn'] != 1569, 'spn_derate'] = 'neither'\n",
    "faults_cleaned.loc[faults_cleaned['spn'] != 5246, 'spn_derate'] = 'neither'\n",
    "faults_cleaned.loc[faults_cleaned['spn'] == 5246, 'spn_derate'] = 'full'\n",
    "faults_cleaned.loc[faults_cleaned['spn'] == 1569, 'spn_derate'] = 'partial'  \n",
    "\n",
    "\n",
    "faults_cleaned = faults_cleaned.set_index('RecordID')\n",
    "\n",
    "#get dummies\n",
    "derates = pd.get_dummies(faults_cleaned['spn_derate'])\n",
    "derates\n",
    "\n",
    "#merge back with original dataset\n",
    "faults_cleaned = faults_cleaned.merge(derates, left_on = 'RecordID', right_on = 'RecordID') "
   ]
  },
  {
   "cell_type": "code",
   "execution_count": 5,
   "id": "81e4ced7",
   "metadata": {},
   "outputs": [],
   "source": [
    "#sorts and groups by truck. then sorts by event timestamp. this made the diff() calculate correctly \n",
    "#    ¯\\_(ツ)_/¯\n",
    "#code shamelessly stolen from https://arccoder.medium.com/pandas-sort-within-groups-e1f3b6a10a3f\n",
    "faults_cleaned = faults_cleaned.sort_values(['EquipmentID'], ascending=True) \\\n",
    "    .groupby(['EquipmentID'], sort=False) \\\n",
    "    .apply(lambda x: x.sort_values(['EventTimeStamp'], ascending=True)) \\\n",
    "    .reset_index(drop=True)\n",
    "\n",
    "\n",
    "faults_cleaned['timedelta'] = faults_cleaned.groupby('EquipmentID')['EventTimeStamp'].diff()"
   ]
  },
  {
   "cell_type": "code",
   "execution_count": 54,
   "id": "bdfa6057",
   "metadata": {
    "collapsed": true
   },
   "outputs": [
    {
     "data": {
      "text/plain": [
       "2016    332383\n",
       "2015    325779\n",
       "2017    254851\n",
       "2018    144510\n",
       "2019    112075\n",
       "2020     17188\n",
       "2011       244\n",
       "2000       219\n",
       "2010        58\n",
       "2009        24\n",
       "2026         3\n",
       "2002         1\n",
       "Freq: A-DEC, Name: EventTimeStamp, dtype: int64"
      ]
     },
     "execution_count": 54,
     "metadata": {},
     "output_type": "execute_result"
    }
   ],
   "source": [
    "faults['EventTimeStamp'].dt.to_period('Y').value_counts()"
   ]
  },
  {
   "cell_type": "code",
   "execution_count": 6,
   "id": "6a5960d4",
   "metadata": {
    "collapsed": true
   },
   "outputs": [
    {
     "data": {
      "text/plain": [
       "2016    332175\n",
       "2015    325536\n",
       "2017    254680\n",
       "2018    143289\n",
       "2019    111321\n",
       "2020     17179\n",
       "Freq: A-DEC, Name: EventTimeStamp, dtype: int64"
      ]
     },
     "execution_count": 6,
     "metadata": {},
     "output_type": "execute_result"
    }
   ],
   "source": [
    "faults_cleaned['EventTimeStamp'].dt.to_period('Y').value_counts()"
   ]
  },
  {
   "cell_type": "markdown",
   "id": "b92f0066",
   "metadata": {},
   "source": [
    "### Based on the distribution of years I think it would be best to limit the dataset to years 2015-2020 \n",
    "\n",
    "#### 2015-2020 are consecutive while before 2015 it skips years 2014, 2013, 2012 and picks back up at 2011. It's possible that some trucks from 2014 carry over into 2015, but unlikely any from 2011 are carried over since they limit their lease to 4 years."
   ]
  },
  {
   "cell_type": "markdown",
   "id": "b103a930",
   "metadata": {},
   "source": [
    "# In the full dataset\n",
    "### How many trucks have a full derate/partial derate? \n",
    "### out of 1045 total trucks in the dataset \n",
    "\n",
    "Interestingly, when filtering down for years 2015-2020, Full derates went down from 211 to 210 but the partial remained unchanged. \n",
    "\n",
    "#### 526 have either a partial OR a full (we have some that have a partial but not a full and some that have a full but not a partial)\n",
    "\n",
    "#### 210 have a full derate\n",
    "\n",
    "#### 498 have a partial\n",
    "\n",
    "#### 182 of the trucks that have a partial AND have a full derate.\n",
    "\n",
    "#### 519 have neither a partial NOR a full"
   ]
  },
  {
   "cell_type": "code",
   "execution_count": 116,
   "id": "8502d569",
   "metadata": {},
   "outputs": [
    {
     "data": {
      "text/plain": [
       "1045"
      ]
     },
     "execution_count": 116,
     "metadata": {},
     "output_type": "execute_result"
    }
   ],
   "source": [
    "len(faults_cleaned['EquipmentID'].unique())"
   ]
  },
  {
   "cell_type": "code",
   "execution_count": 7,
   "id": "886d5889",
   "metadata": {},
   "outputs": [
    {
     "data": {
      "text/plain": [
       "210"
      ]
     },
     "execution_count": 7,
     "metadata": {},
     "output_type": "execute_result"
    }
   ],
   "source": [
    "full = faults_cleaned[(faults_cleaned['spn'] == 5246)]\n",
    "full = full['EquipmentID'].unique()\n",
    "\n",
    "len(full)"
   ]
  },
  {
   "cell_type": "code",
   "execution_count": 8,
   "id": "fe6fde88",
   "metadata": {},
   "outputs": [
    {
     "data": {
      "text/plain": [
       "498"
      ]
     },
     "execution_count": 8,
     "metadata": {},
     "output_type": "execute_result"
    }
   ],
   "source": [
    "partial = faults_cleaned[(faults_cleaned['spn'] == 1569)]\n",
    "partial = partial['EquipmentID'].unique()\n",
    "\n",
    "len(partial)"
   ]
  },
  {
   "cell_type": "code",
   "execution_count": 9,
   "id": "dc9c7368",
   "metadata": {
    "scrolled": true
   },
   "outputs": [
    {
     "data": {
      "text/plain": [
       "182"
      ]
     },
     "execution_count": 9,
     "metadata": {},
     "output_type": "execute_result"
    }
   ],
   "source": [
    "intersection = np.intersect1d(full, partial)\n",
    "\n",
    "len(intersection)"
   ]
  },
  {
   "cell_type": "code",
   "execution_count": 120,
   "id": "b375e43d",
   "metadata": {},
   "outputs": [
    {
     "data": {
      "text/plain": [
       "526"
      ]
     },
     "execution_count": 120,
     "metadata": {},
     "output_type": "execute_result"
    }
   ],
   "source": [
    "both = faults_cleaned[((faults_cleaned['spn']== 5246) | (faults_cleaned['spn']==1569))]\n",
    "\n",
    "both = both['EquipmentID'].unique()\n",
    "\n",
    "len(both)"
   ]
  },
  {
   "cell_type": "code",
   "execution_count": 121,
   "id": "62175b36",
   "metadata": {
    "scrolled": true
   },
   "outputs": [
    {
     "data": {
      "text/plain": [
       "235153"
      ]
     },
     "execution_count": 121,
     "metadata": {},
     "output_type": "execute_result"
    }
   ],
   "source": [
    "no_derates = faults_cleaned[~faults_cleaned['EquipmentID'].isin(both)]\n",
    "#no_derates = no_derates['EquipmentID'].unique()\n",
    "len(no_derates)"
   ]
  },
  {
   "cell_type": "code",
   "execution_count": null,
   "id": "c90a1111",
   "metadata": {},
   "outputs": [],
   "source": []
  },
  {
   "cell_type": "code",
   "execution_count": null,
   "id": "5485b06a",
   "metadata": {},
   "outputs": [],
   "source": [
    "faults_cleaned['timedelta'].describe()"
   ]
  },
  {
   "cell_type": "code",
   "execution_count": 41,
   "id": "bd63c731",
   "metadata": {},
   "outputs": [],
   "source": [
    "from tqdm.notebook import tqdm"
   ]
  },
  {
   "cell_type": "code",
   "execution_count": 42,
   "id": "0da7f6bf",
   "metadata": {
    "scrolled": true
   },
   "outputs": [
    {
     "data": {
      "application/vnd.jupyter.widget-view+json": {
       "model_id": "93d5a9beb47d4cdeb29c14d51525aa1e",
       "version_major": 2,
       "version_minor": 0
      },
      "text/plain": [
       "  0%|          | 0/210 [00:00<?, ?it/s]"
      ]
     },
     "metadata": {},
     "output_type": "display_data"
    }
   ],
   "source": [
    "#Create list for trucks that have a full derate\n",
    "full = faults_cleaned[(faults_cleaned['spn'] == 5246)]\n",
    "full = full['EquipmentID'].unique()\n",
    "\n",
    "#create an empty list to hold the derated_trucks\n",
    "derated_trucks = []\n",
    "#iterate through the dataframe and return the trucks that derate and the preceeding 10 rows. \n",
    "for truck_num in tqdm(full):\n",
    "    truck = faults_cleaned[faults_cleaned['EquipmentID']==truck_num]\n",
    "    first_full_index = truck[truck['spn']==5246].index[0]\n",
    "    derated_trucks.append(truck.loc[first_full_index-10:first_full_index])\n",
    "#concat the list into a new dataframe   \n",
    "derated_trucks = pd.concat(derated_trucks)\n"
   ]
  },
  {
   "cell_type": "code",
   "execution_count": 43,
   "id": "5e69e038",
   "metadata": {
    "collapsed": true
   },
   "outputs": [
    {
     "data": {
      "text/html": [
       "<div>\n",
       "<style scoped>\n",
       "    .dataframe tbody tr th:only-of-type {\n",
       "        vertical-align: middle;\n",
       "    }\n",
       "\n",
       "    .dataframe tbody tr th {\n",
       "        vertical-align: top;\n",
       "    }\n",
       "\n",
       "    .dataframe thead th {\n",
       "        text-align: right;\n",
       "    }\n",
       "</style>\n",
       "<table border=\"1\" class=\"dataframe\">\n",
       "  <thead>\n",
       "    <tr style=\"text-align: right;\">\n",
       "      <th></th>\n",
       "      <th>ESS_Id</th>\n",
       "      <th>EventTimeStamp</th>\n",
       "      <th>eventDescription</th>\n",
       "      <th>ecuSoftwareVersion</th>\n",
       "      <th>ecuModel</th>\n",
       "      <th>ecuMake</th>\n",
       "      <th>spn</th>\n",
       "      <th>fmi</th>\n",
       "      <th>active</th>\n",
       "      <th>activeTransitionCount</th>\n",
       "      <th>EquipmentID</th>\n",
       "      <th>Latitude</th>\n",
       "      <th>Longitude</th>\n",
       "      <th>LocationTimeStamp</th>\n",
       "      <th>spn_derate</th>\n",
       "      <th>full</th>\n",
       "      <th>neither</th>\n",
       "      <th>partial</th>\n",
       "      <th>timedelta</th>\n",
       "    </tr>\n",
       "  </thead>\n",
       "  <tbody>\n",
       "    <tr>\n",
       "      <th>99</th>\n",
       "      <td>1070647</td>\n",
       "      <td>2015-02-25 13:53:08</td>\n",
       "      <td>Condition Exists Engine Protection Torque Derate</td>\n",
       "      <td>unknown</td>\n",
       "      <td>unknown</td>\n",
       "      <td>unknown</td>\n",
       "      <td>1569</td>\n",
       "      <td>31</td>\n",
       "      <td>True</td>\n",
       "      <td>1</td>\n",
       "      <td>1329</td>\n",
       "      <td>39.399583</td>\n",
       "      <td>-82.974768</td>\n",
       "      <td>2015-02-25 13:56:31</td>\n",
       "      <td>partial</td>\n",
       "      <td>0</td>\n",
       "      <td>0</td>\n",
       "      <td>1</td>\n",
       "      <td>NaT</td>\n",
       "    </tr>\n",
       "    <tr>\n",
       "      <th>100</th>\n",
       "      <td>1070646</td>\n",
       "      <td>2015-02-25 13:53:08</td>\n",
       "      <td>NaN</td>\n",
       "      <td>unknown</td>\n",
       "      <td>unknown</td>\n",
       "      <td>unknown</td>\n",
       "      <td>5246</td>\n",
       "      <td>0</td>\n",
       "      <td>True</td>\n",
       "      <td>1</td>\n",
       "      <td>1329</td>\n",
       "      <td>39.399583</td>\n",
       "      <td>-82.974768</td>\n",
       "      <td>2015-02-25 13:56:31</td>\n",
       "      <td>full</td>\n",
       "      <td>1</td>\n",
       "      <td>0</td>\n",
       "      <td>0</td>\n",
       "      <td>0 days 00:00:00</td>\n",
       "    </tr>\n",
       "    <tr>\n",
       "      <th>2039</th>\n",
       "      <td>2865286</td>\n",
       "      <td>2015-06-09 15:40:51</td>\n",
       "      <td>NaN</td>\n",
       "      <td>unknown</td>\n",
       "      <td>unknown</td>\n",
       "      <td>unknown</td>\n",
       "      <td>50353</td>\n",
       "      <td>0</td>\n",
       "      <td>True</td>\n",
       "      <td>2</td>\n",
       "      <td>1339</td>\n",
       "      <td>35.749027</td>\n",
       "      <td>-78.868333</td>\n",
       "      <td>2015-06-09 15:41:28</td>\n",
       "      <td>neither</td>\n",
       "      <td>0</td>\n",
       "      <td>1</td>\n",
       "      <td>0</td>\n",
       "      <td>0 days 05:41:26</td>\n",
       "    </tr>\n",
       "    <tr>\n",
       "      <th>2040</th>\n",
       "      <td>2865323</td>\n",
       "      <td>2015-06-09 15:43:36</td>\n",
       "      <td>NaN</td>\n",
       "      <td>unknown</td>\n",
       "      <td>unknown</td>\n",
       "      <td>unknown</td>\n",
       "      <td>50353</td>\n",
       "      <td>0</td>\n",
       "      <td>False</td>\n",
       "      <td>2</td>\n",
       "      <td>1339</td>\n",
       "      <td>35.745833</td>\n",
       "      <td>-78.905185</td>\n",
       "      <td>2015-06-09 15:43:32</td>\n",
       "      <td>neither</td>\n",
       "      <td>0</td>\n",
       "      <td>1</td>\n",
       "      <td>0</td>\n",
       "      <td>0 days 00:02:45</td>\n",
       "    </tr>\n",
       "    <tr>\n",
       "      <th>2041</th>\n",
       "      <td>2881610</td>\n",
       "      <td>2015-06-10 11:42:08</td>\n",
       "      <td>NaN</td>\n",
       "      <td>unknown</td>\n",
       "      <td>unknown</td>\n",
       "      <td>unknown</td>\n",
       "      <td>5394</td>\n",
       "      <td>7</td>\n",
       "      <td>True</td>\n",
       "      <td>1</td>\n",
       "      <td>1339</td>\n",
       "      <td>35.756712</td>\n",
       "      <td>-77.869444</td>\n",
       "      <td>2015-06-10 11:42:43</td>\n",
       "      <td>neither</td>\n",
       "      <td>0</td>\n",
       "      <td>1</td>\n",
       "      <td>0</td>\n",
       "      <td>0 days 19:58:32</td>\n",
       "    </tr>\n",
       "    <tr>\n",
       "      <th>...</th>\n",
       "      <td>...</td>\n",
       "      <td>...</td>\n",
       "      <td>...</td>\n",
       "      <td>...</td>\n",
       "      <td>...</td>\n",
       "      <td>...</td>\n",
       "      <td>...</td>\n",
       "      <td>...</td>\n",
       "      <td>...</td>\n",
       "      <td>...</td>\n",
       "      <td>...</td>\n",
       "      <td>...</td>\n",
       "      <td>...</td>\n",
       "      <td>...</td>\n",
       "      <td>...</td>\n",
       "      <td>...</td>\n",
       "      <td>...</td>\n",
       "      <td>...</td>\n",
       "      <td>...</td>\n",
       "    </tr>\n",
       "    <tr>\n",
       "      <th>1174613</th>\n",
       "      <td>60855543</td>\n",
       "      <td>2018-09-06 15:38:45</td>\n",
       "      <td>Incorrect Data J1939 Network #1 Primary Vehicl...</td>\n",
       "      <td>BB41103*   BB41104*</td>\n",
       "      <td>EC60-adv</td>\n",
       "      <td>BNDWS</td>\n",
       "      <td>639</td>\n",
       "      <td>2</td>\n",
       "      <td>False</td>\n",
       "      <td>127</td>\n",
       "      <td>306</td>\n",
       "      <td>36.066435</td>\n",
       "      <td>-86.433518</td>\n",
       "      <td>2018-09-06 15:38:40</td>\n",
       "      <td>neither</td>\n",
       "      <td>0</td>\n",
       "      <td>1</td>\n",
       "      <td>0</td>\n",
       "      <td>0 days 00:25:40</td>\n",
       "    </tr>\n",
       "    <tr>\n",
       "      <th>1174614</th>\n",
       "      <td>60904453</td>\n",
       "      <td>2018-09-07 05:45:39</td>\n",
       "      <td>Data Drifted High Aftertreatment 1 Outlet NOx</td>\n",
       "      <td>05317106*04075152*092613211021*09300006*G1*BDR*</td>\n",
       "      <td>6X1u13D1500000000</td>\n",
       "      <td>CMMNS</td>\n",
       "      <td>3226</td>\n",
       "      <td>20</td>\n",
       "      <td>True</td>\n",
       "      <td>1</td>\n",
       "      <td>306</td>\n",
       "      <td>36.167777</td>\n",
       "      <td>-86.529120</td>\n",
       "      <td>2018-09-07 05:46:16</td>\n",
       "      <td>neither</td>\n",
       "      <td>0</td>\n",
       "      <td>1</td>\n",
       "      <td>0</td>\n",
       "      <td>0 days 14:06:54</td>\n",
       "    </tr>\n",
       "    <tr>\n",
       "      <th>1174615</th>\n",
       "      <td>60904613</td>\n",
       "      <td>2018-09-07 05:48:43</td>\n",
       "      <td>Condition Exists NOx limits exceeded due to In...</td>\n",
       "      <td>05317106*04075152*092613211021*09300006*G1*BDR*</td>\n",
       "      <td>6X1u13D1500000000</td>\n",
       "      <td>CMMNS</td>\n",
       "      <td>4094</td>\n",
       "      <td>31</td>\n",
       "      <td>True</td>\n",
       "      <td>1</td>\n",
       "      <td>306</td>\n",
       "      <td>36.169907</td>\n",
       "      <td>-86.587731</td>\n",
       "      <td>2018-09-07 05:49:20</td>\n",
       "      <td>neither</td>\n",
       "      <td>0</td>\n",
       "      <td>1</td>\n",
       "      <td>0</td>\n",
       "      <td>0 days 00:03:04</td>\n",
       "    </tr>\n",
       "    <tr>\n",
       "      <th>1174616</th>\n",
       "      <td>60909415</td>\n",
       "      <td>2018-09-07 06:47:05</td>\n",
       "      <td>Condition Exists Engine Protection Torque Derate</td>\n",
       "      <td>05317106*04075152*092613211021*09300006*G1*BDR*</td>\n",
       "      <td>6X1u13D1500000000</td>\n",
       "      <td>CMMNS</td>\n",
       "      <td>1569</td>\n",
       "      <td>31</td>\n",
       "      <td>True</td>\n",
       "      <td>1</td>\n",
       "      <td>306</td>\n",
       "      <td>36.173240</td>\n",
       "      <td>-86.776990</td>\n",
       "      <td>2018-09-07 06:47:46</td>\n",
       "      <td>partial</td>\n",
       "      <td>0</td>\n",
       "      <td>0</td>\n",
       "      <td>1</td>\n",
       "      <td>0 days 00:58:22</td>\n",
       "    </tr>\n",
       "    <tr>\n",
       "      <th>1174617</th>\n",
       "      <td>60949742</td>\n",
       "      <td>2018-09-07 11:22:40</td>\n",
       "      <td>NaN</td>\n",
       "      <td>05317106*04075152*092613211021*09300006*G1*BDR*</td>\n",
       "      <td>6X1u13D1500000000</td>\n",
       "      <td>CMMNS</td>\n",
       "      <td>5246</td>\n",
       "      <td>0</td>\n",
       "      <td>True</td>\n",
       "      <td>1</td>\n",
       "      <td>306</td>\n",
       "      <td>35.997500</td>\n",
       "      <td>-86.595092</td>\n",
       "      <td>2018-09-07 11:23:15</td>\n",
       "      <td>full</td>\n",
       "      <td>1</td>\n",
       "      <td>0</td>\n",
       "      <td>0</td>\n",
       "      <td>0 days 04:35:35</td>\n",
       "    </tr>\n",
       "  </tbody>\n",
       "</table>\n",
       "<p>2226 rows × 19 columns</p>\n",
       "</div>"
      ],
      "text/plain": [
       "           ESS_Id      EventTimeStamp  \\\n",
       "99        1070647 2015-02-25 13:53:08   \n",
       "100       1070646 2015-02-25 13:53:08   \n",
       "2039      2865286 2015-06-09 15:40:51   \n",
       "2040      2865323 2015-06-09 15:43:36   \n",
       "2041      2881610 2015-06-10 11:42:08   \n",
       "...           ...                 ...   \n",
       "1174613  60855543 2018-09-06 15:38:45   \n",
       "1174614  60904453 2018-09-07 05:45:39   \n",
       "1174615  60904613 2018-09-07 05:48:43   \n",
       "1174616  60909415 2018-09-07 06:47:05   \n",
       "1174617  60949742 2018-09-07 11:22:40   \n",
       "\n",
       "                                          eventDescription  \\\n",
       "99        Condition Exists Engine Protection Torque Derate   \n",
       "100                                                    NaN   \n",
       "2039                                                   NaN   \n",
       "2040                                                   NaN   \n",
       "2041                                                   NaN   \n",
       "...                                                    ...   \n",
       "1174613  Incorrect Data J1939 Network #1 Primary Vehicl...   \n",
       "1174614      Data Drifted High Aftertreatment 1 Outlet NOx   \n",
       "1174615  Condition Exists NOx limits exceeded due to In...   \n",
       "1174616   Condition Exists Engine Protection Torque Derate   \n",
       "1174617                                                NaN   \n",
       "\n",
       "                                      ecuSoftwareVersion           ecuModel  \\\n",
       "99                                               unknown            unknown   \n",
       "100                                              unknown            unknown   \n",
       "2039                                             unknown            unknown   \n",
       "2040                                             unknown            unknown   \n",
       "2041                                             unknown            unknown   \n",
       "...                                                  ...                ...   \n",
       "1174613                              BB41103*   BB41104*           EC60-adv   \n",
       "1174614  05317106*04075152*092613211021*09300006*G1*BDR*  6X1u13D1500000000   \n",
       "1174615  05317106*04075152*092613211021*09300006*G1*BDR*  6X1u13D1500000000   \n",
       "1174616  05317106*04075152*092613211021*09300006*G1*BDR*  6X1u13D1500000000   \n",
       "1174617  05317106*04075152*092613211021*09300006*G1*BDR*  6X1u13D1500000000   \n",
       "\n",
       "         ecuMake    spn  fmi  active  activeTransitionCount EquipmentID  \\\n",
       "99       unknown   1569   31    True                      1        1329   \n",
       "100      unknown   5246    0    True                      1        1329   \n",
       "2039     unknown  50353    0    True                      2        1339   \n",
       "2040     unknown  50353    0   False                      2        1339   \n",
       "2041     unknown   5394    7    True                      1        1339   \n",
       "...          ...    ...  ...     ...                    ...         ...   \n",
       "1174613    BNDWS    639    2   False                    127         306   \n",
       "1174614    CMMNS   3226   20    True                      1         306   \n",
       "1174615    CMMNS   4094   31    True                      1         306   \n",
       "1174616    CMMNS   1569   31    True                      1         306   \n",
       "1174617    CMMNS   5246    0    True                      1         306   \n",
       "\n",
       "          Latitude  Longitude   LocationTimeStamp spn_derate  full  neither  \\\n",
       "99       39.399583 -82.974768 2015-02-25 13:56:31    partial     0        0   \n",
       "100      39.399583 -82.974768 2015-02-25 13:56:31       full     1        0   \n",
       "2039     35.749027 -78.868333 2015-06-09 15:41:28    neither     0        1   \n",
       "2040     35.745833 -78.905185 2015-06-09 15:43:32    neither     0        1   \n",
       "2041     35.756712 -77.869444 2015-06-10 11:42:43    neither     0        1   \n",
       "...            ...        ...                 ...        ...   ...      ...   \n",
       "1174613  36.066435 -86.433518 2018-09-06 15:38:40    neither     0        1   \n",
       "1174614  36.167777 -86.529120 2018-09-07 05:46:16    neither     0        1   \n",
       "1174615  36.169907 -86.587731 2018-09-07 05:49:20    neither     0        1   \n",
       "1174616  36.173240 -86.776990 2018-09-07 06:47:46    partial     0        0   \n",
       "1174617  35.997500 -86.595092 2018-09-07 11:23:15       full     1        0   \n",
       "\n",
       "         partial       timedelta  \n",
       "99             1             NaT  \n",
       "100            0 0 days 00:00:00  \n",
       "2039           0 0 days 05:41:26  \n",
       "2040           0 0 days 00:02:45  \n",
       "2041           0 0 days 19:58:32  \n",
       "...          ...             ...  \n",
       "1174613        0 0 days 00:25:40  \n",
       "1174614        0 0 days 14:06:54  \n",
       "1174615        0 0 days 00:03:04  \n",
       "1174616        1 0 days 00:58:22  \n",
       "1174617        0 0 days 04:35:35  \n",
       "\n",
       "[2226 rows x 19 columns]"
      ]
     },
     "execution_count": 43,
     "metadata": {},
     "output_type": "execute_result"
    }
   ],
   "source": [
    "derated_trucks"
   ]
  },
  {
   "cell_type": "code",
   "execution_count": 44,
   "id": "68e30351",
   "metadata": {},
   "outputs": [
    {
     "data": {
      "application/vnd.jupyter.widget-view+json": {
       "model_id": "3c5c80b5d36b4f15940c45d74efd70ab",
       "version_major": 2,
       "version_minor": 0
      },
      "text/plain": [
       "  0%|          | 0/210 [00:00<?, ?it/s]"
      ]
     },
     "metadata": {},
     "output_type": "display_data"
    }
   ],
   "source": [
    "T_2_towing = []\n",
    "for truck_num in tqdm(full):\n",
    "    truck = faults_cleaned[faults_cleaned['EquipmentID']==truck_num]\n",
    "    first_full_index = truck[truck['spn']==5246].index[0]\n",
    "    T_2_towing.append(truck.loc[first_full_index-1:first_full_index])\n",
    "    \n",
    "T_2_towing = pd.concat(T_2_towing)"
   ]
  },
  {
   "cell_type": "code",
   "execution_count": 91,
   "id": "065b4f61",
   "metadata": {},
   "outputs": [
    {
     "data": {
      "text/plain": [
       "1569      376\n",
       "111       334\n",
       "5246      210\n",
       "1761      172\n",
       "3362       69\n",
       "         ... \n",
       "4765        1\n",
       "520953      1\n",
       "4376        1\n",
       "4382        1\n",
       "1028        1\n",
       "Name: spn, Length: 133, dtype: int64"
      ]
     },
     "execution_count": 91,
     "metadata": {},
     "output_type": "execute_result"
    }
   ],
   "source": [
    "derated_trucks['spn'].value_counts()"
   ]
  },
  {
   "cell_type": "code",
   "execution_count": 65,
   "id": "6bb32518",
   "metadata": {},
   "outputs": [
    {
     "data": {
      "text/plain": [
       "count                          414\n",
       "mean     1 days 06:00:33.492753623\n",
       "std      7 days 17:23:31.865378688\n",
       "min                0 days 00:00:00\n",
       "25%         0 days 00:12:36.750000\n",
       "50%         0 days 01:30:22.500000\n",
       "75%         0 days 05:56:43.500000\n",
       "max              129 days 12:48:45\n",
       "Name: timedelta, dtype: object"
      ]
     },
     "execution_count": 65,
     "metadata": {},
     "output_type": "execute_result"
    }
   ],
   "source": [
    "T_2_towing['timedelta'].describe()"
   ]
  },
  {
   "cell_type": "code",
   "execution_count": 64,
   "id": "bf44e498",
   "metadata": {
    "scrolled": false
   },
   "outputs": [
    {
     "data": {
      "text/plain": [
       "5246    210\n",
       "1569    104\n",
       "111      17\n",
       "1761     10\n",
       "3362     10\n",
       "3226      9\n",
       "5394      6\n",
       "4342      4\n",
       "639       3\n",
       "4340      3\n",
       "3360      3\n",
       "3216      3\n",
       "4094      3\n",
       "3031      3\n",
       "641       3\n",
       "3364      2\n",
       "6802      2\n",
       "96        2\n",
       "74        2\n",
       "1068      2\n",
       "790       1\n",
       "5024      1\n",
       "929       1\n",
       "3361      1\n",
       "1483      1\n",
       "791       1\n",
       "4375      1\n",
       "789       1\n",
       "4364      1\n",
       "4334      1\n",
       "3610      1\n",
       "153       1\n",
       "649       1\n",
       "5742      1\n",
       "612       1\n",
       "596       1\n",
       "70        1\n",
       "5848      1\n",
       "Name: spn, dtype: int64"
      ]
     },
     "execution_count": 64,
     "metadata": {},
     "output_type": "execute_result"
    }
   ],
   "source": [
    "T_2_towing['spn'].value_counts()"
   ]
  },
  {
   "cell_type": "code",
   "execution_count": 69,
   "id": "2e46da40",
   "metadata": {},
   "outputs": [
    {
     "data": {
      "text/html": [
       "<div>\n",
       "<style scoped>\n",
       "    .dataframe tbody tr th:only-of-type {\n",
       "        vertical-align: middle;\n",
       "    }\n",
       "\n",
       "    .dataframe tbody tr th {\n",
       "        vertical-align: top;\n",
       "    }\n",
       "\n",
       "    .dataframe thead th {\n",
       "        text-align: right;\n",
       "    }\n",
       "</style>\n",
       "<table border=\"1\" class=\"dataframe\">\n",
       "  <thead>\n",
       "    <tr style=\"text-align: right;\">\n",
       "      <th></th>\n",
       "      <th>ESS_Id</th>\n",
       "      <th>EventTimeStamp</th>\n",
       "      <th>eventDescription</th>\n",
       "      <th>ecuSoftwareVersion</th>\n",
       "      <th>ecuModel</th>\n",
       "      <th>ecuMake</th>\n",
       "      <th>spn</th>\n",
       "      <th>fmi</th>\n",
       "      <th>active</th>\n",
       "      <th>activeTransitionCount</th>\n",
       "      <th>EquipmentID</th>\n",
       "      <th>Latitude</th>\n",
       "      <th>Longitude</th>\n",
       "      <th>LocationTimeStamp</th>\n",
       "      <th>spn_derate</th>\n",
       "      <th>full</th>\n",
       "      <th>neither</th>\n",
       "      <th>partial</th>\n",
       "      <th>timedelta</th>\n",
       "    </tr>\n",
       "  </thead>\n",
       "  <tbody>\n",
       "    <tr>\n",
       "      <th>0</th>\n",
       "      <td>1059893</td>\n",
       "      <td>2015-02-25 06:17:50</td>\n",
       "      <td>Low (Severity Medium) Battery Potential / Powe...</td>\n",
       "      <td>04993120*00001782*082113134117*07700053*I0*BBZ*</td>\n",
       "      <td>6X1u10D1500000000</td>\n",
       "      <td>CMMNS</td>\n",
       "      <td>444</td>\n",
       "      <td>18</td>\n",
       "      <td>True</td>\n",
       "      <td>1</td>\n",
       "      <td>1327</td>\n",
       "      <td>36.066805</td>\n",
       "      <td>-86.433981</td>\n",
       "      <td>2015-02-25 06:22:31</td>\n",
       "      <td>neither</td>\n",
       "      <td>0</td>\n",
       "      <td>1</td>\n",
       "      <td>0</td>\n",
       "      <td>NaT</td>\n",
       "    </tr>\n",
       "    <tr>\n",
       "      <th>1</th>\n",
       "      <td>1059892</td>\n",
       "      <td>2015-02-25 06:17:50</td>\n",
       "      <td>Low (Severity Low) Engine Coolant Level</td>\n",
       "      <td>04993120*00001782*082113134117*07700053*I0*BBZ*</td>\n",
       "      <td>6X1u10D1500000000</td>\n",
       "      <td>CMMNS</td>\n",
       "      <td>111</td>\n",
       "      <td>17</td>\n",
       "      <td>True</td>\n",
       "      <td>1</td>\n",
       "      <td>1327</td>\n",
       "      <td>36.066805</td>\n",
       "      <td>-86.433981</td>\n",
       "      <td>2015-02-25 06:22:30</td>\n",
       "      <td>neither</td>\n",
       "      <td>0</td>\n",
       "      <td>1</td>\n",
       "      <td>0</td>\n",
       "      <td>0 days 00:00:00</td>\n",
       "    </tr>\n",
       "    <tr>\n",
       "      <th>2</th>\n",
       "      <td>1061595</td>\n",
       "      <td>2015-02-25 07:40:59</td>\n",
       "      <td>Low (Severity Low) Engine Coolant Level</td>\n",
       "      <td>04993120*00001782*082113134117*07700053*I0*BBZ*</td>\n",
       "      <td>6X1u10D1500000000</td>\n",
       "      <td>CMMNS</td>\n",
       "      <td>111</td>\n",
       "      <td>17</td>\n",
       "      <td>False</td>\n",
       "      <td>1</td>\n",
       "      <td>1327</td>\n",
       "      <td>36.067083</td>\n",
       "      <td>-86.434722</td>\n",
       "      <td>2015-02-25 06:24:30</td>\n",
       "      <td>neither</td>\n",
       "      <td>0</td>\n",
       "      <td>1</td>\n",
       "      <td>0</td>\n",
       "      <td>0 days 01:23:09</td>\n",
       "    </tr>\n",
       "    <tr>\n",
       "      <th>3</th>\n",
       "      <td>1062652</td>\n",
       "      <td>2015-02-25 08:24:49</td>\n",
       "      <td>Low (Severity Medium) Battery Potential / Powe...</td>\n",
       "      <td>04993120*00001782*082113134117*07700053*I0*BBZ*</td>\n",
       "      <td>6X1u10D1500000000</td>\n",
       "      <td>CMMNS</td>\n",
       "      <td>444</td>\n",
       "      <td>18</td>\n",
       "      <td>False</td>\n",
       "      <td>1</td>\n",
       "      <td>1327</td>\n",
       "      <td>36.067083</td>\n",
       "      <td>-86.434722</td>\n",
       "      <td>2015-02-25 06:24:30</td>\n",
       "      <td>neither</td>\n",
       "      <td>0</td>\n",
       "      <td>1</td>\n",
       "      <td>0</td>\n",
       "      <td>0 days 00:43:50</td>\n",
       "    </tr>\n",
       "    <tr>\n",
       "      <th>4</th>\n",
       "      <td>2022694</td>\n",
       "      <td>2015-04-22 09:10:12</td>\n",
       "      <td>Low Voltage (Aftertreatment 1 Particulate Trap...</td>\n",
       "      <td>04993120*00001782*082113134117*07700053*I0*BBZ*</td>\n",
       "      <td>6X1u10D1500000000</td>\n",
       "      <td>CMMNS</td>\n",
       "      <td>3251</td>\n",
       "      <td>4</td>\n",
       "      <td>True</td>\n",
       "      <td>1</td>\n",
       "      <td>1327</td>\n",
       "      <td>36.194861</td>\n",
       "      <td>-83.174768</td>\n",
       "      <td>2015-04-22 09:10:48</td>\n",
       "      <td>neither</td>\n",
       "      <td>0</td>\n",
       "      <td>1</td>\n",
       "      <td>0</td>\n",
       "      <td>56 days 00:45:23</td>\n",
       "    </tr>\n",
       "  </tbody>\n",
       "</table>\n",
       "</div>"
      ],
      "text/plain": [
       "    ESS_Id      EventTimeStamp  \\\n",
       "0  1059893 2015-02-25 06:17:50   \n",
       "1  1059892 2015-02-25 06:17:50   \n",
       "2  1061595 2015-02-25 07:40:59   \n",
       "3  1062652 2015-02-25 08:24:49   \n",
       "4  2022694 2015-04-22 09:10:12   \n",
       "\n",
       "                                    eventDescription  \\\n",
       "0  Low (Severity Medium) Battery Potential / Powe...   \n",
       "1            Low (Severity Low) Engine Coolant Level   \n",
       "2            Low (Severity Low) Engine Coolant Level   \n",
       "3  Low (Severity Medium) Battery Potential / Powe...   \n",
       "4  Low Voltage (Aftertreatment 1 Particulate Trap...   \n",
       "\n",
       "                                ecuSoftwareVersion           ecuModel ecuMake  \\\n",
       "0  04993120*00001782*082113134117*07700053*I0*BBZ*  6X1u10D1500000000   CMMNS   \n",
       "1  04993120*00001782*082113134117*07700053*I0*BBZ*  6X1u10D1500000000   CMMNS   \n",
       "2  04993120*00001782*082113134117*07700053*I0*BBZ*  6X1u10D1500000000   CMMNS   \n",
       "3  04993120*00001782*082113134117*07700053*I0*BBZ*  6X1u10D1500000000   CMMNS   \n",
       "4  04993120*00001782*082113134117*07700053*I0*BBZ*  6X1u10D1500000000   CMMNS   \n",
       "\n",
       "    spn  fmi  active  activeTransitionCount EquipmentID   Latitude  Longitude  \\\n",
       "0   444   18    True                      1        1327  36.066805 -86.433981   \n",
       "1   111   17    True                      1        1327  36.066805 -86.433981   \n",
       "2   111   17   False                      1        1327  36.067083 -86.434722   \n",
       "3   444   18   False                      1        1327  36.067083 -86.434722   \n",
       "4  3251    4    True                      1        1327  36.194861 -83.174768   \n",
       "\n",
       "    LocationTimeStamp spn_derate  full  neither  partial        timedelta  \n",
       "0 2015-02-25 06:22:31    neither     0        1        0              NaT  \n",
       "1 2015-02-25 06:22:30    neither     0        1        0  0 days 00:00:00  \n",
       "2 2015-02-25 06:24:30    neither     0        1        0  0 days 01:23:09  \n",
       "3 2015-02-25 06:24:30    neither     0        1        0  0 days 00:43:50  \n",
       "4 2015-04-22 09:10:48    neither     0        1        0 56 days 00:45:23  "
      ]
     },
     "execution_count": 69,
     "metadata": {},
     "output_type": "execute_result"
    }
   ],
   "source": [
    "faults_cleaned.head()"
   ]
  },
  {
   "cell_type": "code",
   "execution_count": 82,
   "id": "c5f39ce3",
   "metadata": {},
   "outputs": [],
   "source": [
    "#bring in diagnostics and pivot\n",
    "diagnostics = pd.read_csv('../data/VehicleDiagnosticOnboardData.csv') \\\n",
    "    .pivot(index = 'FaultId', columns = 'Name', values = 'Value')\n",
    "\n",
    "faults_all = faults_cleaned.merge(diagnostics, left_index = True, right_on = 'FaultId')\n",
    "\n",
    "faults_all['DistanceLtd'] = faults_all['DistanceLtd'].str.replace(',','.').astype('float64')"
   ]
  },
  {
   "cell_type": "code",
   "execution_count": 130,
   "id": "7a32cda8",
   "metadata": {},
   "outputs": [],
   "source": [
    "derated_trucks = derated_trucks.merge(diagnostics, left_index = True, right_on = 'FaultId')\n",
    "derated_trucks['DistanceLtd'] = derated_trucks['DistanceLtd'].str.replace(',','.').astype('float64')"
   ]
  },
  {
   "cell_type": "code",
   "execution_count": 126,
   "id": "b8047b3c",
   "metadata": {},
   "outputs": [],
   "source": [
    "#Merge the trucks that don't derate with the diagnostics data.\n",
    "\n",
    "no_derates = no_derates.merge(diagnostics, left_index = True, right_on = 'FaultId')\n",
    "\n",
    "no_derates['DistanceLtd'] = no_derates['DistanceLtd'].str.replace(',','.').astype('float64')"
   ]
  },
  {
   "cell_type": "code",
   "execution_count": 83,
   "id": "d3bf3ad2",
   "metadata": {
    "scrolled": false
   },
   "outputs": [
    {
     "data": {
      "text/plain": [
       "count    558274.000000\n",
       "mean     361953.520802\n",
       "std      142541.624015\n",
       "min           0.000000\n",
       "25%      267989.000000\n",
       "50%      373051.200000\n",
       "75%      479221.400000\n",
       "max      657065.000000\n",
       "Name: DistanceLtd, dtype: float64"
      ]
     },
     "execution_count": 83,
     "metadata": {},
     "output_type": "execute_result"
    }
   ],
   "source": [
    "faults_all['DistanceLtd'].describe()"
   ]
  },
  {
   "cell_type": "code",
   "execution_count": 131,
   "id": "a338ceab",
   "metadata": {
    "scrolled": true
   },
   "outputs": [
    {
     "data": {
      "text/plain": [
       "count      1041.000000\n",
       "mean     353430.351207\n",
       "std      144572.481053\n",
       "min        2166.970000\n",
       "25%      253580.400000\n",
       "50%      339249.000000\n",
       "75%      484170.200000\n",
       "max      613457.300000\n",
       "Name: DistanceLtd, dtype: float64"
      ]
     },
     "execution_count": 131,
     "metadata": {},
     "output_type": "execute_result"
    }
   ],
   "source": [
    "derated_trucks['DistanceLtd'].describe()"
   ]
  },
  {
   "cell_type": "code",
   "execution_count": 129,
   "id": "380f42f9",
   "metadata": {},
   "outputs": [
    {
     "data": {
      "text/plain": [
       "count    109177.000000\n",
       "mean     355629.163211\n",
       "std      141233.229357\n",
       "min           0.000000\n",
       "25%      261105.500000\n",
       "50%      344424.000000\n",
       "75%      482705.900000\n",
       "max      657065.000000\n",
       "Name: DistanceLtd, dtype: float64"
      ]
     },
     "execution_count": 129,
     "metadata": {},
     "output_type": "execute_result"
    }
   ],
   "source": [
    "no_derates['DistanceLtd'].describe()"
   ]
  },
  {
   "cell_type": "code",
   "execution_count": 86,
   "id": "81153f0d",
   "metadata": {
    "scrolled": true
   },
   "outputs": [
    {
     "data": {
      "text/plain": [
       "ESS_Id                       551222\n",
       "EventTimeStamp               551222\n",
       "eventDescription             525645\n",
       "ecuSoftwareVersion           413069\n",
       "ecuModel                     520214\n",
       "ecuMake                      520214\n",
       "spn                          551222\n",
       "fmi                          551222\n",
       "active                       551222\n",
       "activeTransitionCount        551222\n",
       "EquipmentID                  551222\n",
       "Latitude                     551222\n",
       "Longitude                    551222\n",
       "LocationTimeStamp            551222\n",
       "spn_derate                   551222\n",
       "full                         551222\n",
       "neither                      551222\n",
       "partial                      551222\n",
       "timedelta                    551141\n",
       "AcceleratorPedal             246533\n",
       "BarometricPressure           272381\n",
       "CruiseControlActive          266980\n",
       "CruiseControlSetSpeed        267700\n",
       "DistanceLtd                  272341\n",
       "EngineCoolantTemperature     272414\n",
       "EngineLoad                   272169\n",
       "EngineOilPressure            272475\n",
       "EngineOilTemperature         271387\n",
       "EngineRpm                    272778\n",
       "EngineTimeLtd                270080\n",
       "FuelLevel                    232639\n",
       "FuelLtd                      271928\n",
       "FuelRate                     272010\n",
       "FuelTemperature              141379\n",
       "IgnStatus                    282818\n",
       "IntakeManifoldTemperature    272516\n",
       "LampStatus                   551222\n",
       "ParkingBrake                 182707\n",
       "ServiceDistance                  96\n",
       "Speed                        271356\n",
       "SwitchedBatteryVoltage        52500\n",
       "Throttle                     192487\n",
       "TurboBoostPressure           271147\n",
       "dtype: int64"
      ]
     },
     "execution_count": 86,
     "metadata": {},
     "output_type": "execute_result"
    }
   ],
   "source": [
    "faults_all[faults_all['active'] == 0].count()"
   ]
  },
  {
   "cell_type": "code",
   "execution_count": 90,
   "id": "43ed04a4",
   "metadata": {},
   "outputs": [
    {
     "data": {
      "text/plain": [
       "count    1001.000000\n",
       "mean        0.508736\n",
       "std         0.078617\n",
       "min         0.000000\n",
       "25%         0.493252\n",
       "50%         0.502488\n",
       "75%         0.525974\n",
       "max         1.000000\n",
       "Name: DistanceLtd, dtype: float64"
      ]
     },
     "execution_count": 90,
     "metadata": {},
     "output_type": "execute_result"
    }
   ],
   "source": [
    "faults_all.groupby('EquipmentID')['DistanceLtd'].apply(lambda x: x.isna().sum()/len(x)).describe()"
   ]
  },
  {
   "cell_type": "code",
   "execution_count": 128,
   "id": "ed0b8fab",
   "metadata": {},
   "outputs": [
    {
     "data": {
      "text/plain": [
       "count    487.000000\n",
       "mean       0.511389\n",
       "std        0.092924\n",
       "min        0.000000\n",
       "25%        0.485937\n",
       "50%        0.501969\n",
       "75%        0.541667\n",
       "max        1.000000\n",
       "Name: DistanceLtd, dtype: float64"
      ]
     },
     "execution_count": 128,
     "metadata": {},
     "output_type": "execute_result"
    }
   ],
   "source": [
    "no_derates.groupby('EquipmentID')['DistanceLtd'].apply(lambda x: x.isna().sum()/len(x)).describe()"
   ]
  },
  {
   "cell_type": "markdown",
   "id": "7a8d2421",
   "metadata": {},
   "source": [
    "If you change the lease length. What if renewing at 3 years is better than 4 years? At what point in their life do they start seeing derates. \n",
    "How often are fault codes thrown at different mileages. \n",
    "Full derates as mileage changes. \n",
    "\n",
    "There is a difference between trucks that don't experience derates and ones that do with the codes leading up to the derate.\n",
    "\n",
    "3251 in non-derates. \n"
   ]
  },
  {
   "cell_type": "code",
   "execution_count": null,
   "id": "7ffc0ded",
   "metadata": {},
   "outputs": [],
   "source": []
  }
 ],
 "metadata": {
  "kernelspec": {
   "display_name": "Python 3",
   "language": "python",
   "name": "python3"
  },
  "language_info": {
   "codemirror_mode": {
    "name": "ipython",
    "version": 3
   },
   "file_extension": ".py",
   "mimetype": "text/x-python",
   "name": "python",
   "nbconvert_exporter": "python",
   "pygments_lexer": "ipython3",
   "version": "3.8.8"
  }
 },
 "nbformat": 4,
 "nbformat_minor": 5
}
