{
 "cells": [
  {
   "cell_type": "code",
   "execution_count": 5,
   "id": "07fc114c",
   "metadata": {},
   "outputs": [],
   "source": [
    "import pandas as pd\n",
    "import matplotlib.pyplot as plt\n",
    "import numpy as np\n",
    "import seaborn as sns\n",
    "import datetime as dt\n"
   ]
  },
  {
   "cell_type": "code",
   "execution_count": 2,
   "id": "250cfd7b",
   "metadata": {},
   "outputs": [
    {
     "name": "stderr",
     "output_type": "stream",
     "text": [
      "/opt/anaconda3/lib/python3.8/site-packages/numpy/lib/arraysetops.py:583: FutureWarning: elementwise comparison failed; returning scalar instead, but in the future will perform elementwise comparison\n",
      "  mask |= (ar1 == a)\n"
     ]
    }
   ],
   "source": [
    "#Read in J1939Faults. low_memory = false because of warning about mixed type columns.\n",
    "faults = pd.read_csv('../data/J1939Faults.csv',\n",
    "                     index_col = 'RecordID',\n",
    "                     parse_dates = ['EventTimeStamp', 'LocationTimeStamp'],\n",
    "                     low_memory = False)\n",
    "#remove faults that occur at service locations. Had to remove the last digit because the rows dont have it.\n",
    "service_location1 = faults[(faults[\"Latitude\"] == 36.066666) & (faults[\"Longitude\"] == -86.434722)]\n",
    "\n",
    "service_location2 = faults[(faults[\"Latitude\"] == 35.588333) & (faults[\"Longitude\"] == -86.443888)]\n",
    "\n",
    "service_location3 = faults[(faults[\"Latitude\"] == 36.1950) & (faults[\"Longitude\"] ==  -83.174722)]\n",
    "\n",
    "#concat service_locations for removal\n",
    "service_locations = pd.concat([service_location1, service_location2, service_location3])\n",
    "#drop service locations\n",
    "faults_cleaned = faults.drop(service_locations.index)\n",
    "#remove EquipmentIDs that are longer than 5 Characters per the README\n",
    "faults_cleaned = faults_cleaned[faults_cleaned['EquipmentID'].map(len) <= 5]\n",
    "#removed columns that only contained null values or would not be valuable because they're unique to the truck.\n",
    "faults_cleaned = faults_cleaned.drop(['actionDescription', 'faultValue', 'ecuSerialNumber',\n",
    "                                      'ecuSource', 'MCTNumber'], axis = 1).reset_index()\n"
   ]
  },
  {
   "cell_type": "code",
   "execution_count": 3,
   "id": "5dc7aa4f",
   "metadata": {},
   "outputs": [
    {
     "data": {
      "text/plain": [
       "2016    332175\n",
       "2015    325536\n",
       "2017    254680\n",
       "2018    143289\n",
       "2019    111321\n",
       "2020     17179\n",
       "2011       227\n",
       "2000       219\n",
       "2010        47\n",
       "2009        24\n",
       "2026         3\n",
       "2002         1\n",
       "Freq: A-DEC, Name: EventTimeStamp, dtype: int64"
      ]
     },
     "execution_count": 3,
     "metadata": {},
     "output_type": "execute_result"
    }
   ],
   "source": [
    "faults_cleaned['EventTimeStamp'].dt.to_period('Y').value_counts()"
   ]
  },
  {
   "cell_type": "markdown",
   "id": "be20ebbe",
   "metadata": {},
   "source": [
    "### Based on the distribution of years I think it would be best to limit the dataset to years 2015-2020 \n",
    "\n",
    "#### 2015 -2020 are consecutive while before 2015 it skips years 2014, 2013, 2012 and picks back up at 2011. It's possible that some trucks from 2014 carry over into 2015, but unlikely any from 2011 are carried over since they limit their lease to 4 years."
   ]
  },
  {
   "cell_type": "code",
   "execution_count": 11,
   "id": "adcc4abd",
   "metadata": {},
   "outputs": [],
   "source": [
    "#Limit to years 2015-2020\n",
    "faults_cleaned = faults_cleaned.loc[(faults_cleaned['EventTimeStamp'] >= '2015-01-01') & (faults_cleaned['EventTimeStamp'] <= '2020-12-31') ]"
   ]
  },
  {
   "cell_type": "markdown",
   "id": "cb164ff5",
   "metadata": {},
   "source": [
    "# In the full dataset\n",
    "### How many trucks have a full derate/partial derate? \n",
    "\n",
    "#### 210 have full derates \n",
    "\n",
    "#### 498 have partial\n",
    "\n",
    "#### 182 have both. \n",
    "\n",
    "Interestingly, when filtering down for years 2015-2020, Full derates went down from 211 to 210 but the partial remained unchanged. "
   ]
  },
  {
   "cell_type": "code",
   "execution_count": 12,
   "id": "aafc07a9",
   "metadata": {},
   "outputs": [
    {
     "data": {
      "text/plain": [
       "210"
      ]
     },
     "execution_count": 12,
     "metadata": {},
     "output_type": "execute_result"
    }
   ],
   "source": [
    "full = faults_cleaned[(faults_cleaned['spn'] == 5246)]\n",
    "full = full['EquipmentID'].unique()\n",
    "\n",
    "len(full)"
   ]
  },
  {
   "cell_type": "code",
   "execution_count": 13,
   "id": "5e40f8f9",
   "metadata": {},
   "outputs": [
    {
     "data": {
      "text/plain": [
       "498"
      ]
     },
     "execution_count": 13,
     "metadata": {},
     "output_type": "execute_result"
    }
   ],
   "source": [
    "partial = faults_cleaned[(faults_cleaned['spn'] == 1569)]\n",
    "partial = partial['EquipmentID'].unique()\n",
    "\n",
    "len(partial)"
   ]
  },
  {
   "cell_type": "code",
   "execution_count": 14,
   "id": "6451e4ce",
   "metadata": {},
   "outputs": [
    {
     "data": {
      "text/plain": [
       "182"
      ]
     },
     "execution_count": 14,
     "metadata": {},
     "output_type": "execute_result"
    }
   ],
   "source": [
    "intersection = np.intersect1d(full, partial)\n",
    "\n",
    "len(intersection)"
   ]
  },
  {
   "cell_type": "markdown",
   "id": "f905abf1",
   "metadata": {},
   "source": [
    "### Filter down to the trucks that have both"
   ]
  },
  {
   "cell_type": "code",
   "execution_count": 15,
   "id": "caa95056",
   "metadata": {},
   "outputs": [],
   "source": [
    "both = faults_cleaned[faults_cleaned['EquipmentID'].isin(intersection)]"
   ]
  },
  {
   "cell_type": "code",
   "execution_count": 16,
   "id": "faf3ca27",
   "metadata": {
    "scrolled": true
   },
   "outputs": [
    {
     "name": "stdout",
     "output_type": "stream",
     "text": [
      "<class 'pandas.core.frame.DataFrame'>\n",
      "Int64Index: 357259 entries, 5 to 1184681\n",
      "Data columns (total 15 columns):\n",
      " #   Column                 Non-Null Count   Dtype         \n",
      "---  ------                 --------------   -----         \n",
      " 0   RecordID               357259 non-null  int64         \n",
      " 1   ESS_Id                 357259 non-null  int64         \n",
      " 2   EventTimeStamp         357259 non-null  datetime64[ns]\n",
      " 3   eventDescription       346792 non-null  object        \n",
      " 4   ecuSoftwareVersion     287748 non-null  object        \n",
      " 5   ecuModel               347522 non-null  object        \n",
      " 6   ecuMake                347522 non-null  object        \n",
      " 7   spn                    357259 non-null  int64         \n",
      " 8   fmi                    357259 non-null  int64         \n",
      " 9   active                 357259 non-null  bool          \n",
      " 10  activeTransitionCount  357259 non-null  int64         \n",
      " 11  EquipmentID            357259 non-null  object        \n",
      " 12  Latitude               357259 non-null  float64       \n",
      " 13  Longitude              357259 non-null  float64       \n",
      " 14  LocationTimeStamp      357259 non-null  datetime64[ns]\n",
      "dtypes: bool(1), datetime64[ns](2), float64(2), int64(5), object(5)\n",
      "memory usage: 41.2+ MB\n"
     ]
    }
   ],
   "source": [
    "both.info()"
   ]
  },
  {
   "cell_type": "code",
   "execution_count": 17,
   "id": "36c6bffa",
   "metadata": {},
   "outputs": [
    {
     "data": {
      "text/plain": [
       "2016    117106\n",
       "2015    105387\n",
       "2017     74788\n",
       "2018     37820\n",
       "2019     18624\n",
       "2020      3534\n",
       "Freq: A-DEC, Name: EventTimeStamp, dtype: int64"
      ]
     },
     "execution_count": 17,
     "metadata": {},
     "output_type": "execute_result"
    }
   ],
   "source": [
    "both['EventTimeStamp'].dt.to_period('Y').value_counts()"
   ]
  },
  {
   "cell_type": "code",
   "execution_count": 18,
   "id": "60c84028",
   "metadata": {},
   "outputs": [
    {
     "data": {
      "text/plain": [
       "(357259, 15)"
      ]
     },
     "execution_count": 18,
     "metadata": {},
     "output_type": "execute_result"
    }
   ],
   "source": [
    "both.shape"
   ]
  },
  {
   "cell_type": "code",
   "execution_count": 20,
   "id": "04513460",
   "metadata": {
    "scrolled": false
   },
   "outputs": [
    {
     "name": "stdout",
     "output_type": "stream",
     "text": [
      "<class 'pandas.core.frame.DataFrame'>\n",
      "Int64Index: 357259 entries, 5 to 1184681\n",
      "Data columns (total 15 columns):\n",
      " #   Column                 Non-Null Count   Dtype         \n",
      "---  ------                 --------------   -----         \n",
      " 0   RecordID               357259 non-null  int64         \n",
      " 1   ESS_Id                 357259 non-null  int64         \n",
      " 2   EventTimeStamp         357259 non-null  datetime64[ns]\n",
      " 3   eventDescription       346792 non-null  object        \n",
      " 4   ecuSoftwareVersion     287748 non-null  object        \n",
      " 5   ecuModel               347522 non-null  object        \n",
      " 6   ecuMake                347522 non-null  object        \n",
      " 7   spn                    357259 non-null  int64         \n",
      " 8   fmi                    357259 non-null  int64         \n",
      " 9   active                 357259 non-null  bool          \n",
      " 10  activeTransitionCount  357259 non-null  int64         \n",
      " 11  EquipmentID            357259 non-null  object        \n",
      " 12  Latitude               357259 non-null  float64       \n",
      " 13  Longitude              357259 non-null  float64       \n",
      " 14  LocationTimeStamp      357259 non-null  datetime64[ns]\n",
      "dtypes: bool(1), datetime64[ns](2), float64(2), int64(5), object(5)\n",
      "memory usage: 41.2+ MB\n"
     ]
    }
   ],
   "source": [
    "both.info()"
   ]
  }
 ],
 "metadata": {
  "kernelspec": {
   "display_name": "Python 3",
   "language": "python",
   "name": "python3"
  },
  "language_info": {
   "codemirror_mode": {
    "name": "ipython",
    "version": 3
   },
   "file_extension": ".py",
   "mimetype": "text/x-python",
   "name": "python",
   "nbconvert_exporter": "python",
   "pygments_lexer": "ipython3",
   "version": "3.8.8"
  }
 },
 "nbformat": 4,
 "nbformat_minor": 5
}
