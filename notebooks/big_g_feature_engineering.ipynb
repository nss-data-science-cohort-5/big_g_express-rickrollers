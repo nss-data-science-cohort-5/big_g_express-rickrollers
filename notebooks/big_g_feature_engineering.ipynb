{
 "cells": [
  {
   "cell_type": "code",
   "execution_count": 1,
   "id": "56b7131b",
   "metadata": {},
   "outputs": [],
   "source": [
    "import pandas as pd\n",
    "import numpy as np"
   ]
  },
  {
   "cell_type": "code",
   "execution_count": 10,
   "id": "5ddf489f",
   "metadata": {},
   "outputs": [],
   "source": [
    "faults_diagnostics = pd.read_csv('../data/faults_diagnostics.csv',\n",
    "                                 index_col='RecordID',\n",
    "                                 parse_dates = ['EventTimeStamp', 'LocationTimeStamp'],\n",
    "                                 low_memory = False)"
   ]
  },
  {
   "cell_type": "code",
   "execution_count": 8,
   "id": "b9958cba",
   "metadata": {},
   "outputs": [
    {
     "data": {
      "text/plain": [
       "Index(['EventTimeStamp', 'ESS_Id', 'eventDescription', 'ecuSerialNumber',\n",
       "       'ecuModel', 'ecuMake', 'spn', 'fmi', 'active', 'activeTransitionCount',\n",
       "       'EquipmentID', 'Latitude', 'Longitude', 'LocationTimeStamp',\n",
       "       'AcceleratorPedal', 'BarometricPressure', 'CruiseControlActive',\n",
       "       'CruiseControlSetSpeed', 'DistanceLtd', 'EngineCoolantTemperature',\n",
       "       'EngineLoad', 'EngineOilPressure', 'EngineOilTemperature', 'EngineRpm',\n",
       "       'EngineTimeLtd', 'FuelLevel', 'FuelLtd', 'FuelRate', 'FuelTemperature',\n",
       "       'IgnStatus', 'IntakeManifoldTemperature', 'LampStatus', 'ParkingBrake',\n",
       "       'ServiceDistance', 'Speed', 'SwitchedBatteryVoltage', 'Throttle',\n",
       "       'TurboBoostPressure'],\n",
       "      dtype='object')"
      ]
     },
     "execution_count": 8,
     "metadata": {},
     "output_type": "execute_result"
    }
   ],
   "source": [
    "faults_diagnostics.columns"
   ]
  },
  {
   "cell_type": "code",
   "execution_count": 9,
   "id": "56a83598",
   "metadata": {},
   "outputs": [
    {
     "name": "stdout",
     "output_type": "stream",
     "text": [
      "<class 'pandas.core.frame.DataFrame'>\n",
      "Int64Index: 949753 entries, 1211418 to 1161753\n",
      "Data columns (total 38 columns):\n",
      " #   Column                     Non-Null Count   Dtype         \n",
      "---  ------                     --------------   -----         \n",
      " 0   EventTimeStamp             949753 non-null  datetime64[ns]\n",
      " 1   ESS_Id                     949753 non-null  int64         \n",
      " 2   eventDescription           912451 non-null  object        \n",
      " 3   ecuSerialNumber            650195 non-null  object        \n",
      " 4   ecuModel                   894697 non-null  object        \n",
      " 5   ecuMake                    894697 non-null  object        \n",
      " 6   spn                        949753 non-null  int64         \n",
      " 7   fmi                        949753 non-null  int64         \n",
      " 8   active                     949753 non-null  bool          \n",
      " 9   activeTransitionCount      949753 non-null  int64         \n",
      " 10  EquipmentID                949753 non-null  int64         \n",
      " 11  Latitude                   949753 non-null  float64       \n",
      " 12  Longitude                  949753 non-null  float64       \n",
      " 13  LocationTimeStamp          949753 non-null  datetime64[ns]\n",
      " 14  AcceleratorPedal           426435 non-null  object        \n",
      " 15  BarometricPressure         469830 non-null  object        \n",
      " 16  CruiseControlActive        466847 non-null  object        \n",
      " 17  CruiseControlSetSpeed      467974 non-null  float64       \n",
      " 18  DistanceLtd                469842 non-null  object        \n",
      " 19  EngineCoolantTemperature   469881 non-null  object        \n",
      " 20  EngineLoad                 469531 non-null  float64       \n",
      " 21  EngineOilPressure          470007 non-null  object        \n",
      " 22  EngineOilTemperature       468366 non-null  object        \n",
      " 23  EngineRpm                  470463 non-null  object        \n",
      " 24  EngineTimeLtd              467338 non-null  object        \n",
      " 25  FuelLevel                  392719 non-null  object        \n",
      " 26  FuelLtd                    469282 non-null  object        \n",
      " 27  FuelRate                   469306 non-null  object        \n",
      " 28  FuelTemperature            264046 non-null  object        \n",
      " 29  IgnStatus                  484534 non-null  object        \n",
      " 30  IntakeManifoldTemperature  470047 non-null  object        \n",
      " 31  LampStatus                 949753 non-null  int64         \n",
      " 32  ParkingBrake               331431 non-null  object        \n",
      " 33  ServiceDistance            0 non-null       float64       \n",
      " 34  Speed                      468251 non-null  object        \n",
      " 35  SwitchedBatteryVoltage     83168 non-null   object        \n",
      " 36  Throttle                   348758 non-null  object        \n",
      " 37  TurboBoostPressure         467629 non-null  object        \n",
      "dtypes: bool(1), datetime64[ns](2), float64(5), int64(6), object(24)\n",
      "memory usage: 276.3+ MB\n"
     ]
    }
   ],
   "source": [
    "faults_diagnostics.info()"
   ]
  }
 ],
 "metadata": {
  "kernelspec": {
   "display_name": "Python 3",
   "language": "python",
   "name": "python3"
  },
  "language_info": {
   "codemirror_mode": {
    "name": "ipython",
    "version": 3
   },
   "file_extension": ".py",
   "mimetype": "text/x-python",
   "name": "python",
   "nbconvert_exporter": "python",
   "pygments_lexer": "ipython3",
   "version": "3.8.8"
  }
 },
 "nbformat": 4,
 "nbformat_minor": 5
}
